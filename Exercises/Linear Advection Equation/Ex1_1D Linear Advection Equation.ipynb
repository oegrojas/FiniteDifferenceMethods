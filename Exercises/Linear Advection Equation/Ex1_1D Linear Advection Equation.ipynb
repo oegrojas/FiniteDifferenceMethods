{
 "metadata": {
  "name": "",
  "signature": "sha256:39d15b4609b1c6953b3c45d86a49ff806caba7b6be0a4a0636f5e7fd74b6773b"
 },
 "nbformat": 3,
 "nbformat_minor": 0,
 "worksheets": [
  {
   "cells": [
    {
     "cell_type": "heading",
     "level": 1,
     "metadata": {},
     "source": [
      "1D linear advection equation "
     ]
    },
    {
     "cell_type": "heading",
     "level": 2,
     "metadata": {},
     "source": [
      "The equation is:"
     ]
    },
    {
     "cell_type": "markdown",
     "metadata": {},
     "source": [
      "$\\frac{du}{dt}+v\\frac{du}{dx}=0$"
     ]
    },
    {
     "cell_type": "heading",
     "level": 6,
     "metadata": {},
     "source": [
      "with the following initial condition:"
     ]
    },
    {
     "cell_type": "markdown",
     "metadata": {},
     "source": [
      "$U\\left(0,x\\right)=\\begin{cases}\n",
      "e^{-0.01\\left(x-45\\right)^{2}} & 20\\leq x\\leq70\\\\\n",
      "0 & elsewhere.\n",
      "\\end{cases}$"
     ]
    },
    {
     "cell_type": "code",
     "collapsed": false,
     "input": [
      "import numpy as np\n",
      "import pylab as pyl"
     ],
     "language": "python",
     "metadata": {},
     "outputs": [],
     "prompt_number": 11
    },
    {
     "cell_type": "heading",
     "level": 4,
     "metadata": {},
     "source": [
      "We start defining the initial parameters:"
     ]
    },
    {
     "cell_type": "heading",
     "level": 5,
     "metadata": {},
     "source": [
      "The domain is set [a,b]"
     ]
    },
    {
     "cell_type": "code",
     "collapsed": false,
     "input": [
      "p=0\n",
      "q=100"
     ],
     "language": "python",
     "metadata": {},
     "outputs": [],
     "prompt_number": 12
    },
    {
     "cell_type": "heading",
     "level": 5,
     "metadata": {},
     "source": [
      "Fluid speed [m/s]"
     ]
    },
    {
     "cell_type": "code",
     "collapsed": false,
     "input": [
      "v=-0.5"
     ],
     "language": "python",
     "metadata": {},
     "outputs": [],
     "prompt_number": 13
    },
    {
     "cell_type": "heading",
     "level": 4,
     "metadata": {},
     "source": [
      "Number of grid points"
     ]
    },
    {
     "cell_type": "code",
     "collapsed": false,
     "input": [
      "N=101"
     ],
     "language": "python",
     "metadata": {},
     "outputs": [],
     "prompt_number": 14
    },
    {
     "cell_type": "heading",
     "level": 4,
     "metadata": {},
     "source": [
      "Discretization:"
     ]
    },
    {
     "cell_type": "heading",
     "level": 5,
     "metadata": {},
     "source": [
      "The value for the temporal step size is, for now, completely arbitrary. "
     ]
    },
    {
     "cell_type": "code",
     "collapsed": false,
     "input": [
      "dx=(q-p)/(N-1)\n",
      "dt=0.5"
     ],
     "language": "python",
     "metadata": {},
     "outputs": [],
     "prompt_number": 15
    },
    {
     "cell_type": "heading",
     "level": 5,
     "metadata": {},
     "source": [
      "Grid"
     ]
    },
    {
     "cell_type": "code",
     "collapsed": false,
     "input": [
      "x=np.arange(p,q,dx)"
     ],
     "language": "python",
     "metadata": {},
     "outputs": [],
     "prompt_number": 16
    },
    {
     "cell_type": "heading",
     "level": 4,
     "metadata": {},
     "source": [
      "Vector for initial u values"
     ]
    },
    {
     "cell_type": "code",
     "collapsed": false,
     "input": [
      "u0=np.zeros(N)\n",
      "xia=20\n",
      "xib=70\n",
      "\n",
      "def finitials(s):\n",
      "    for i in range(1,N):\n",
      "        if (i>= xia and i<=xib):\n",
      "            s[i]=np.exp(-0.01*(i-45)**2)\n",
      "        else:\n",
      "            s[i]=0\n",
      "    return\n",
      "\n",
      "u0c=np.zeros(N)\n",
      "finitials(u0c)\n",
      "\n",
      "finitials(u0)\n",
      "pyl.plot(u0)\n",
      "pyl.show()"
     ],
     "language": "python",
     "metadata": {},
     "outputs": [],
     "prompt_number": 9
    },
    {
     "cell_type": "heading",
     "level": 5,
     "metadata": {},
     "source": [
      "Graph the initial condition"
     ]
    },
    {
     "cell_type": "code",
     "collapsed": false,
     "input": [],
     "language": "python",
     "metadata": {},
     "outputs": []
    },
    {
     "cell_type": "heading",
     "level": 4,
     "metadata": {},
     "source": [
      "Vector for numerical u values"
     ]
    },
    {
     "cell_type": "code",
     "collapsed": false,
     "input": [
      "u=np.zeros(N)"
     ],
     "language": "python",
     "metadata": {},
     "outputs": [],
     "prompt_number": 18
    },
    {
     "cell_type": "heading",
     "level": 5,
     "metadata": {},
     "source": [
      "Vector for exact u values"
     ]
    },
    {
     "cell_type": "code",
     "collapsed": false,
     "input": [],
     "language": "python",
     "metadata": {},
     "outputs": []
    },
    {
     "cell_type": "heading",
     "level": 5,
     "metadata": {},
     "source": [
      "Number of time steps:"
     ]
    },
    {
     "cell_type": "code",
     "collapsed": false,
     "input": [],
     "language": "python",
     "metadata": {},
     "outputs": []
    },
    {
     "cell_type": "heading",
     "level": 5,
     "metadata": {},
     "source": [
      "Constant"
     ]
    },
    {
     "cell_type": "code",
     "collapsed": false,
     "input": [],
     "language": "python",
     "metadata": {},
     "outputs": []
    },
    {
     "cell_type": "heading",
     "level": 3,
     "metadata": {},
     "source": [
      "Time Marching algorithm"
     ]
    },
    {
     "cell_type": "code",
     "collapsed": false,
     "input": [],
     "language": "python",
     "metadata": {},
     "outputs": []
    },
    {
     "cell_type": "heading",
     "level": 5,
     "metadata": {},
     "source": [
      "Graph the solution"
     ]
    },
    {
     "cell_type": "code",
     "collapsed": false,
     "input": [
      "pyl.plot(u,'r+',label='Approximation')\n",
      "pyl.plot(u0c,'k--',label='Initial Condition')\n",
      "pyl.plot(uexac,'g--',label='Exact Value')\n",
      "pyl.legend()\n",
      "pyl.show()"
     ],
     "language": "python",
     "metadata": {},
     "outputs": []
    },
    {
     "cell_type": "markdown",
     "metadata": {},
     "source": [
      "References: <http://www2.docm.mmu.ac.uk/STAFF/C.Mingham/xteaching.html>"
     ]
    }
   ],
   "metadata": {}
  }
 ]
}