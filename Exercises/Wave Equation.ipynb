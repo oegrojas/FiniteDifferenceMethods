{
 "metadata": {
  "name": "",
  "signature": "sha256:d244ba4b68442ad9d21b930104f43cbb1ebe118aea06da508c8d42aa644a27e7"
 },
 "nbformat": 3,
 "nbformat_minor": 0,
 "worksheets": [
  {
   "cells": [
    {
     "cell_type": "heading",
     "level": 1,
     "metadata": {},
     "source": [
      "Wave Equation"
     ]
    },
    {
     "cell_type": "markdown",
     "metadata": {},
     "source": [
      "$u_{tt}=\\gamma^{2}u_{xx}$"
     ]
    },
    {
     "cell_type": "heading",
     "level": 6,
     "metadata": {},
     "source": [
      "An initial pulse is applied to a single node at time t=0."
     ]
    },
    {
     "cell_type": "code",
     "collapsed": false,
     "input": [
      "from numpy import*\n",
      "from tkinter import *\n",
      "import time"
     ],
     "language": "python",
     "metadata": {},
     "outputs": [],
     "prompt_number": 1
    },
    {
     "cell_type": "code",
     "collapsed": false,
     "input": [
      "dt = 0.0001\n",
      "dx = 0.1\n",
      "v = 100 \n",
      "gamma = 1\n",
      "c1 = (v**2) * (dt**2) / (dx**2)\n",
      "c2 = gamma*dt / dx**2"
     ],
     "language": "python",
     "metadata": {},
     "outputs": [],
     "prompt_number": 2
    },
    {
     "cell_type": "code",
     "collapsed": false,
     "input": [
      "nodes = 50\n",
      "source_node = nodes/2 \n",
      "x = arange(0, nodes, 1)\n",
      "u_new = zeros(nodes)\n",
      "u = zeros(nodes)\n",
      "u_old = zeros(nodes)"
     ],
     "language": "python",
     "metadata": {},
     "outputs": [],
     "prompt_number": 3
    },
    {
     "cell_type": "heading",
     "level": 5,
     "metadata": {},
     "source": [
      "Tkinter Configuration"
     ]
    },
    {
     "cell_type": "code",
     "collapsed": false,
     "input": [
      "#t_start = time.time()#for referencing\n",
      "height = 800.0\n",
      "width = 800.0\n",
      "center = height//2\n",
      "x_factor = width/(nodes-1)\n",
      "y_factor = 30"
     ],
     "language": "python",
     "metadata": {},
     "outputs": [],
     "prompt_number": 4
    },
    {
     "cell_type": "heading",
     "level": 5,
     "metadata": {},
     "source": [
      "Solution"
     ]
    },
    {
     "cell_type": "code",
     "collapsed": false,
     "input": [
      "u[source_node] = -10\n",
      "u_old[source_node] = -10\n",
      "\n",
      "def paint(canvas, parent):\n",
      "    for i in range (1, nodes-1):\n",
      "        U1 = u[i+1] - 2*u[i] + u[i-1]\n",
      "        U0 = u_old[i+1] - 2*u_old[i] + u_old[i-1]\n",
      "        u_new[i] = c1*U1 + c2*(U1-U0) + 2.0*u[i] - u_old[i]\n",
      "    for i in range (0, nodes):\n",
      "        u_old[i] = u[i]\n",
      "        u[i] = u_new[i]\n",
      "        \n",
      "    xy=[]\n",
      "    for i in range(0, nodes):\n",
      "        xy.append((int)(i*x_factor))\n",
      "        xy.append((int)(u_new[i]*y_factor)+center)\n",
      "    time.sleep(0.05)\n",
      "    c.coords(\"curve\", *xy)\n",
      "    parent.after_idle(paint,parent,canvas)"
     ],
     "language": "python",
     "metadata": {},
     "outputs": [],
     "prompt_number": 21
    },
    {
     "cell_type": "heading",
     "level": 5,
     "metadata": {},
     "source": [
      "Tkinter Configuration"
     ]
    },
    {
     "cell_type": "code",
     "collapsed": false,
     "input": [
      "root = Tk()\n",
      "root.title(\"Animated wave equation - initial pulse at L/2\")\n",
      "root.bind('q','exit')\n",
      "c = Canvas(width=width, height=height, bg='black')\n",
      "c.pack()\n",
      "c.create_line(tag = \"curve\", *zeros(2*width), fill='green')\n",
      "root.after(10,paint,root,c) #Here we call the function\n",
      "root.mainloop()"
     ],
     "language": "python",
     "metadata": {},
     "outputs": [],
     "prompt_number": 22
    },
    {
     "cell_type": "markdown",
     "metadata": {},
     "source": [
      "References <http://fab.cba.mit.edu/classes/MIT/864.11/people/Rory_Clune/>"
     ]
    }
   ],
   "metadata": {}
  }
 ]
}