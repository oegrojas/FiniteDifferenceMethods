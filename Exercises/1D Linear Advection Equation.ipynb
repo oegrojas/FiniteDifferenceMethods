{
 "metadata": {
  "name": "",
  "signature": "sha256:7607b561f9b56640d7b9e105d205a0b2b4d821baefd34f5badf9c61c8aa529a8"
 },
 "nbformat": 3,
 "nbformat_minor": 0,
 "worksheets": [
  {
   "cells": [
    {
     "cell_type": "heading",
     "level": 1,
     "metadata": {},
     "source": [
      "1D linear advection equation "
     ]
    },
    {
     "cell_type": "heading",
     "level": 2,
     "metadata": {},
     "source": [
      "The equation is:"
     ]
    },
    {
     "cell_type": "markdown",
     "metadata": {},
     "source": [
      "$\\frac{du}{dt}+v\\frac{du}{dx}=0$"
     ]
    },
    {
     "cell_type": "heading",
     "level": 6,
     "metadata": {},
     "source": [
      "with the following initial condition:"
     ]
    },
    {
     "cell_type": "markdown",
     "metadata": {},
     "source": [
      "$U\\left(0,x\\right)=\\begin{cases}\n",
      "e^{-0.01\\left(x-45\\right)^{2}} & 20\\leq x\\leq70\\\\\n",
      "0 & elsewhere.\n",
      "\\end{cases}$"
     ]
    },
    {
     "cell_type": "heading",
     "level": 4,
     "metadata": {},
     "source": [
      "We start defining the initial parameters:"
     ]
    },
    {
     "cell_type": "heading",
     "level": 5,
     "metadata": {},
     "source": [
      "The domain is set [a,b]"
     ]
    },
    {
     "cell_type": "code",
     "collapsed": false,
     "input": [
      "import numpy as np\n",
      "import pylab as pyl"
     ],
     "language": "python",
     "metadata": {},
     "outputs": []
    },
    {
     "cell_type": "code",
     "collapsed": false,
     "input": [
      "a=0 #Begin of domain [m]\n",
      "b=100 #End of domain [m]"
     ],
     "language": "python",
     "metadata": {},
     "outputs": []
    },
    {
     "cell_type": "code",
     "collapsed": false,
     "input": [
      "v=-0.5 #Fluid speed [m/s]"
     ],
     "language": "python",
     "metadata": {},
     "outputs": []
    },
    {
     "cell_type": "heading",
     "level": 4,
     "metadata": {},
     "source": [
      "Number of grid points"
     ]
    },
    {
     "cell_type": "code",
     "collapsed": false,
     "input": [
      "N=1001 "
     ],
     "language": "python",
     "metadata": {},
     "outputs": []
    },
    {
     "cell_type": "heading",
     "level": 4,
     "metadata": {},
     "source": [
      "Discretization:"
     ]
    },
    {
     "cell_type": "heading",
     "level": 5,
     "metadata": {},
     "source": [
      "The value for the temporal step size is, for now, completely arbitrary. "
     ]
    },
    {
     "cell_type": "code",
     "collapsed": false,
     "input": [
      "dx=(b-a)/(N-1) #Spatial\n",
      "dt=0.1 # Temporal"
     ],
     "language": "python",
     "metadata": {},
     "outputs": []
    },
    {
     "cell_type": "heading",
     "level": 5,
     "metadata": {},
     "source": [
      "Grid"
     ]
    },
    {
     "cell_type": "code",
     "collapsed": false,
     "input": [
      "x=np.arange(a,b,dx)"
     ],
     "language": "python",
     "metadata": {},
     "outputs": []
    },
    {
     "cell_type": "heading",
     "level": 4,
     "metadata": {},
     "source": [
      "Vector for initial u values"
     ]
    },
    {
     "cell_type": "code",
     "collapsed": false,
     "input": [
      "u0=np.zeros(N) #We initialize the vector\n",
      "xia=20\n",
      "xib=70\n",
      "def finitial(s):\n",
      "    for i in range(1,N):\n",
      "        if (i>= xia and i<=xib):\n",
      "            s[i]= np.exp(-0.01*(i-45)**2)\n",
      "        else:\n",
      "            s[i]=0\n",
      "    return\n",
      "u0c=np.zeros(N) # Comparation vector\n",
      "finitial(u0c)\n",
      "\n",
      "finitial(u0)\n",
      "pyl.plot(u0)\n",
      "pyl.show()"
     ],
     "language": "python",
     "metadata": {},
     "outputs": []
    },
    {
     "cell_type": "heading",
     "level": 4,
     "metadata": {},
     "source": [
      "Vector for numerical u values"
     ]
    },
    {
     "cell_type": "code",
     "collapsed": false,
     "input": [
      "u=np.zeros(N)"
     ],
     "language": "python",
     "metadata": {},
     "outputs": []
    },
    {
     "cell_type": "heading",
     "level": 5,
     "metadata": {},
     "source": [
      "Vector for exact u values"
     ]
    },
    {
     "cell_type": "code",
     "collapsed": false,
     "input": [
      "uexac=np.zeros(N)\n",
      "def finitial2(s,s1,s2):\n",
      "    if (s-s1*s2>= xia and s-s1*s2 <=xib):\n",
      "        return np.exp(-0.01*((s-s1*s2)-45)**2)\n",
      "    else:\n",
      "        return 0"
     ],
     "language": "python",
     "metadata": {},
     "outputs": []
    },
    {
     "cell_type": "heading",
     "level": 5,
     "metadata": {},
     "source": [
      "Number of time steps:"
     ]
    },
    {
     "cell_type": "code",
     "collapsed": false,
     "input": [
      "Nt=50"
     ],
     "language": "python",
     "metadata": {},
     "outputs": []
    },
    {
     "cell_type": "heading",
     "level": 5,
     "metadata": {},
     "source": [
      "Constant"
     ]
    },
    {
     "cell_type": "code",
     "collapsed": false,
     "input": [
      "r=v*dt/dx"
     ],
     "language": "python",
     "metadata": {},
     "outputs": []
    },
    {
     "cell_type": "heading",
     "level": 3,
     "metadata": {},
     "source": [
      "Time Marching algorithm"
     ]
    },
    {
     "cell_type": "code",
     "collapsed": false,
     "input": [
      "for n in range(1,Nt):\n",
      "    t=n*dt #current time for outputted solution\n",
      "    for i in range(1,N-1):\n",
      "        uexac[i]=finitial2(x[i],v,t)\n",
      "    for i in range(1,N-1):\n",
      "        u[i]=u0[i]-r*(u0[i+1]-u0[i]) # forward difference algorithm\n",
      "    u0=u; # copy solution to initial conditions for next iteration"
     ],
     "language": "python",
     "metadata": {},
     "outputs": []
    },
    {
     "cell_type": "heading",
     "level": 5,
     "metadata": {},
     "source": [
      "Plots"
     ]
    },
    {
     "cell_type": "code",
     "collapsed": false,
     "input": [
      "pyl.plot(u,'r+',label='Approximation')\n",
      "pyl.plot(u0c,'k--',label='Initial Condition')\n",
      "pyl.plot(uexac,'g--',label='Exact Value')\n",
      "pyl.legend()\n",
      "pyl.show()"
     ],
     "language": "python",
     "metadata": {},
     "outputs": []
    },
    {
     "cell_type": "markdown",
     "metadata": {},
     "source": [
      "References: <http://www2.docm.mmu.ac.uk/STAFF/C.Mingham/xteaching.html>"
     ]
    }
   ],
   "metadata": {}
  }
 ]
}