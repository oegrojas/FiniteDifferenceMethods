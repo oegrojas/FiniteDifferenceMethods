{
 "metadata": {
  "name": "",
  "signature": "sha256:c7c5e472eb9ddb0f8ca13862925ebd38295b6128c082103915b468b06a7723b1"
 },
 "nbformat": 3,
 "nbformat_minor": 0,
 "worksheets": [
  {
   "cells": [
    {
     "cell_type": "heading",
     "level": 1,
     "metadata": {},
     "source": [
      "Diffusion Equation"
     ]
    },
    {
     "cell_type": "markdown",
     "metadata": {},
     "source": [
      "$\\frac{\\partial u}{\\partial t}-\\alpha\\left(\\frac{\\partial^{2}u}{\\partial x^{2}}+\\frac{\\partial^{2}u}{\\partial y^{2}}+\\frac{\\partial^{2}u}{\\partial z^{2}}\\right)=0\\rightarrow\\frac{\\partial u}{\\partial t}-\\alpha\\nabla^{2}u=0$"
     ]
    },
    {
     "cell_type": "code",
     "collapsed": false,
     "input": [
      "from numpy import*\n",
      "from tkinter import *\n",
      "import time"
     ],
     "language": "python",
     "metadata": {},
     "outputs": [],
     "prompt_number": 12
    },
    {
     "cell_type": "code",
     "collapsed": false,
     "input": [
      "dt = 0.1\n",
      "dx = 1\n",
      "D = 1\n",
      "alpha = D*dt/dx**2\n",
      "nodes = 500\n",
      "source_node = nodes/2"
     ],
     "language": "python",
     "metadata": {},
     "outputs": [],
     "prompt_number": 13
    },
    {
     "cell_type": "code",
     "collapsed": false,
     "input": [
      "x = arange(0, nodes, 1)\n",
      "u_new = zeros(nodes)\n",
      "u = zeros(nodes)"
     ],
     "language": "python",
     "metadata": {},
     "outputs": [],
     "prompt_number": 14
    },
    {
     "cell_type": "code",
     "collapsed": false,
     "input": [
      "t_start = time.time() #for referencing\n",
      "height = 800.0\n",
      "width = 800.0\n",
      "center = height//2\n",
      "x_factor = width/(nodes-1)\n",
      "y_factor = 400"
     ],
     "language": "python",
     "metadata": {},
     "outputs": [],
     "prompt_number": 15
    },
    {
     "cell_type": "code",
     "collapsed": false,
     "input": [
      "u[source_node] = 1\n",
      "\n",
      "def paint(canvas, parent):\n",
      "    for i in range (1, nodes-1):\n",
      "        u_new[i] = u[i] + alpha*(u[i+1]-2.0*u[i]+u[i-1])\n",
      "    for i in range (0, nodes):\n",
      "        u[i] = u_new[i]\t\n",
      "\n",
      "    xy = []\n",
      "    for i in range(0, nodes):\n",
      "        xy.append((int)(i*x_factor))\n",
      "        xy.append((int)(u_new[i]*y_factor)+center)\n",
      "    time.sleep(0.001)\t\n",
      "    c.coords(\"curve\", *xy)\n",
      "    parent.after_idle(paint,parent,canvas)"
     ],
     "language": "python",
     "metadata": {},
     "outputs": [],
     "prompt_number": 16
    },
    {
     "cell_type": "code",
     "collapsed": false,
     "input": [
      "root = Tk()\n",
      "root.title(\"Animated solution to 1D diffusion equation\")\n",
      "root.bind('Q','Exit')\n",
      "c = Canvas(width=width, height=height, bg='blue')\n",
      "c.pack()\n",
      "c.create_line(tag = \"curve\", *zeros(2*width), fill='red')\t\n",
      "root.after(100,paint,root,c)\n",
      "root.mainloop()\t"
     ],
     "language": "python",
     "metadata": {},
     "outputs": [],
     "prompt_number": 18
    },
    {
     "cell_type": "markdown",
     "metadata": {},
     "source": [
      "References <http://fab.cba.mit.edu/classes/MIT/864.11/people/Rory_Clune/>"
     ]
    }
   ],
   "metadata": {}
  }
 ]
}